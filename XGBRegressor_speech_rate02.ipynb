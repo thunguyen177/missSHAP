{
 "cells": [
  {
   "cell_type": "code",
   "execution_count": 2,
   "metadata": {},
   "outputs": [
    {
     "name": "stdout",
     "output_type": "stream",
     "text": [
      "(756, 755)\n"
     ]
    },
    {
     "data": {
      "text/html": [
       "<div>\n",
       "<style scoped>\n",
       "    .dataframe tbody tr th:only-of-type {\n",
       "        vertical-align: middle;\n",
       "    }\n",
       "\n",
       "    .dataframe tbody tr th {\n",
       "        vertical-align: top;\n",
       "    }\n",
       "\n",
       "    .dataframe thead tr th {\n",
       "        text-align: left;\n",
       "    }\n",
       "</style>\n",
       "<table border=\"1\" class=\"dataframe\">\n",
       "  <thead>\n",
       "    <tr>\n",
       "      <th></th>\n",
       "      <th>Unnamed: 0_level_0</th>\n",
       "      <th>Unnamed: 1_level_0</th>\n",
       "      <th>Baseline Features</th>\n",
       "      <th>Unnamed: 3_level_0</th>\n",
       "      <th>Unnamed: 4_level_0</th>\n",
       "      <th>Unnamed: 5_level_0</th>\n",
       "      <th>Unnamed: 6_level_0</th>\n",
       "      <th>Unnamed: 7_level_0</th>\n",
       "      <th>Unnamed: 8_level_0</th>\n",
       "      <th>Unnamed: 9_level_0</th>\n",
       "      <th>...</th>\n",
       "      <th>Unnamed: 745_level_0</th>\n",
       "      <th>Unnamed: 746_level_0</th>\n",
       "      <th>Unnamed: 747_level_0</th>\n",
       "      <th>Unnamed: 748_level_0</th>\n",
       "      <th>Unnamed: 749_level_0</th>\n",
       "      <th>Unnamed: 750_level_0</th>\n",
       "      <th>Unnamed: 751_level_0</th>\n",
       "      <th>Unnamed: 752_level_0</th>\n",
       "      <th>Unnamed: 753_level_0</th>\n",
       "      <th>Unnamed: 754_level_0</th>\n",
       "    </tr>\n",
       "    <tr>\n",
       "      <th></th>\n",
       "      <th>id</th>\n",
       "      <th>gender</th>\n",
       "      <th>PPE</th>\n",
       "      <th>DFA</th>\n",
       "      <th>RPDE</th>\n",
       "      <th>numPulses</th>\n",
       "      <th>numPeriodsPulses</th>\n",
       "      <th>meanPeriodPulses</th>\n",
       "      <th>stdDevPeriodPulses</th>\n",
       "      <th>locPctJitter</th>\n",
       "      <th>...</th>\n",
       "      <th>tqwt_kurtosisValue_dec_28</th>\n",
       "      <th>tqwt_kurtosisValue_dec_29</th>\n",
       "      <th>tqwt_kurtosisValue_dec_30</th>\n",
       "      <th>tqwt_kurtosisValue_dec_31</th>\n",
       "      <th>tqwt_kurtosisValue_dec_32</th>\n",
       "      <th>tqwt_kurtosisValue_dec_33</th>\n",
       "      <th>tqwt_kurtosisValue_dec_34</th>\n",
       "      <th>tqwt_kurtosisValue_dec_35</th>\n",
       "      <th>tqwt_kurtosisValue_dec_36</th>\n",
       "      <th>class</th>\n",
       "    </tr>\n",
       "  </thead>\n",
       "  <tbody>\n",
       "    <tr>\n",
       "      <th>0</th>\n",
       "      <td>0</td>\n",
       "      <td>1</td>\n",
       "      <td>0.85247</td>\n",
       "      <td>0.71826</td>\n",
       "      <td>0.57227</td>\n",
       "      <td>240</td>\n",
       "      <td>239</td>\n",
       "      <td>0.008064</td>\n",
       "      <td>0.000087</td>\n",
       "      <td>0.00218</td>\n",
       "      <td>...</td>\n",
       "      <td>1.5620</td>\n",
       "      <td>2.6445</td>\n",
       "      <td>3.8686</td>\n",
       "      <td>4.2105</td>\n",
       "      <td>5.1221</td>\n",
       "      <td>4.4625</td>\n",
       "      <td>2.6202</td>\n",
       "      <td>3.0004</td>\n",
       "      <td>18.9405</td>\n",
       "      <td>1</td>\n",
       "    </tr>\n",
       "    <tr>\n",
       "      <th>1</th>\n",
       "      <td>0</td>\n",
       "      <td>1</td>\n",
       "      <td>0.76686</td>\n",
       "      <td>0.69481</td>\n",
       "      <td>0.53966</td>\n",
       "      <td>234</td>\n",
       "      <td>233</td>\n",
       "      <td>0.008258</td>\n",
       "      <td>0.000073</td>\n",
       "      <td>0.00195</td>\n",
       "      <td>...</td>\n",
       "      <td>1.5589</td>\n",
       "      <td>3.6107</td>\n",
       "      <td>23.5155</td>\n",
       "      <td>14.1962</td>\n",
       "      <td>11.0261</td>\n",
       "      <td>9.5082</td>\n",
       "      <td>6.5245</td>\n",
       "      <td>6.3431</td>\n",
       "      <td>45.1780</td>\n",
       "      <td>1</td>\n",
       "    </tr>\n",
       "    <tr>\n",
       "      <th>2</th>\n",
       "      <td>0</td>\n",
       "      <td>1</td>\n",
       "      <td>0.85083</td>\n",
       "      <td>0.67604</td>\n",
       "      <td>0.58982</td>\n",
       "      <td>232</td>\n",
       "      <td>231</td>\n",
       "      <td>0.008340</td>\n",
       "      <td>0.000060</td>\n",
       "      <td>0.00176</td>\n",
       "      <td>...</td>\n",
       "      <td>1.5643</td>\n",
       "      <td>2.3308</td>\n",
       "      <td>9.4959</td>\n",
       "      <td>10.7458</td>\n",
       "      <td>11.0177</td>\n",
       "      <td>4.8066</td>\n",
       "      <td>2.9199</td>\n",
       "      <td>3.1495</td>\n",
       "      <td>4.7666</td>\n",
       "      <td>1</td>\n",
       "    </tr>\n",
       "    <tr>\n",
       "      <th>3</th>\n",
       "      <td>1</td>\n",
       "      <td>0</td>\n",
       "      <td>0.41121</td>\n",
       "      <td>0.79672</td>\n",
       "      <td>0.59257</td>\n",
       "      <td>178</td>\n",
       "      <td>177</td>\n",
       "      <td>0.010858</td>\n",
       "      <td>0.000183</td>\n",
       "      <td>0.00419</td>\n",
       "      <td>...</td>\n",
       "      <td>3.7805</td>\n",
       "      <td>3.5664</td>\n",
       "      <td>5.2558</td>\n",
       "      <td>14.0403</td>\n",
       "      <td>4.2235</td>\n",
       "      <td>4.6857</td>\n",
       "      <td>4.8460</td>\n",
       "      <td>6.2650</td>\n",
       "      <td>4.0603</td>\n",
       "      <td>1</td>\n",
       "    </tr>\n",
       "    <tr>\n",
       "      <th>4</th>\n",
       "      <td>1</td>\n",
       "      <td>0</td>\n",
       "      <td>0.32790</td>\n",
       "      <td>0.79782</td>\n",
       "      <td>0.53028</td>\n",
       "      <td>236</td>\n",
       "      <td>235</td>\n",
       "      <td>0.008162</td>\n",
       "      <td>0.002669</td>\n",
       "      <td>0.00535</td>\n",
       "      <td>...</td>\n",
       "      <td>6.1727</td>\n",
       "      <td>5.8416</td>\n",
       "      <td>6.0805</td>\n",
       "      <td>5.7621</td>\n",
       "      <td>7.7817</td>\n",
       "      <td>11.6891</td>\n",
       "      <td>8.2103</td>\n",
       "      <td>5.0559</td>\n",
       "      <td>6.1164</td>\n",
       "      <td>1</td>\n",
       "    </tr>\n",
       "  </tbody>\n",
       "</table>\n",
       "<p>5 rows × 755 columns</p>\n",
       "</div>"
      ],
      "text/plain": [
       "  Unnamed: 0_level_0 Unnamed: 1_level_0 Baseline Features Unnamed: 3_level_0  \\\n",
       "                  id             gender               PPE                DFA   \n",
       "0                  0                  1           0.85247            0.71826   \n",
       "1                  0                  1           0.76686            0.69481   \n",
       "2                  0                  1           0.85083            0.67604   \n",
       "3                  1                  0           0.41121            0.79672   \n",
       "4                  1                  0           0.32790            0.79782   \n",
       "\n",
       "  Unnamed: 4_level_0 Unnamed: 5_level_0 Unnamed: 6_level_0 Unnamed: 7_level_0  \\\n",
       "                RPDE          numPulses   numPeriodsPulses   meanPeriodPulses   \n",
       "0            0.57227                240                239           0.008064   \n",
       "1            0.53966                234                233           0.008258   \n",
       "2            0.58982                232                231           0.008340   \n",
       "3            0.59257                178                177           0.010858   \n",
       "4            0.53028                236                235           0.008162   \n",
       "\n",
       "  Unnamed: 8_level_0 Unnamed: 9_level_0  ...      Unnamed: 745_level_0  \\\n",
       "  stdDevPeriodPulses       locPctJitter  ... tqwt_kurtosisValue_dec_28   \n",
       "0           0.000087            0.00218  ...                    1.5620   \n",
       "1           0.000073            0.00195  ...                    1.5589   \n",
       "2           0.000060            0.00176  ...                    1.5643   \n",
       "3           0.000183            0.00419  ...                    3.7805   \n",
       "4           0.002669            0.00535  ...                    6.1727   \n",
       "\n",
       "       Unnamed: 746_level_0      Unnamed: 747_level_0  \\\n",
       "  tqwt_kurtosisValue_dec_29 tqwt_kurtosisValue_dec_30   \n",
       "0                    2.6445                    3.8686   \n",
       "1                    3.6107                   23.5155   \n",
       "2                    2.3308                    9.4959   \n",
       "3                    3.5664                    5.2558   \n",
       "4                    5.8416                    6.0805   \n",
       "\n",
       "       Unnamed: 748_level_0      Unnamed: 749_level_0  \\\n",
       "  tqwt_kurtosisValue_dec_31 tqwt_kurtosisValue_dec_32   \n",
       "0                    4.2105                    5.1221   \n",
       "1                   14.1962                   11.0261   \n",
       "2                   10.7458                   11.0177   \n",
       "3                   14.0403                    4.2235   \n",
       "4                    5.7621                    7.7817   \n",
       "\n",
       "       Unnamed: 750_level_0      Unnamed: 751_level_0  \\\n",
       "  tqwt_kurtosisValue_dec_33 tqwt_kurtosisValue_dec_34   \n",
       "0                    4.4625                    2.6202   \n",
       "1                    9.5082                    6.5245   \n",
       "2                    4.8066                    2.9199   \n",
       "3                    4.6857                    4.8460   \n",
       "4                   11.6891                    8.2103   \n",
       "\n",
       "       Unnamed: 752_level_0      Unnamed: 753_level_0 Unnamed: 754_level_0  \n",
       "  tqwt_kurtosisValue_dec_35 tqwt_kurtosisValue_dec_36                class  \n",
       "0                    3.0004                   18.9405                    1  \n",
       "1                    6.3431                   45.1780                    1  \n",
       "2                    3.1495                    4.7666                    1  \n",
       "3                    6.2650                    4.0603                    1  \n",
       "4                    5.0559                    6.1164                    1  \n",
       "\n",
       "[5 rows x 755 columns]"
      ]
     },
     "execution_count": 2,
     "metadata": {},
     "output_type": "execute_result"
    }
   ],
   "source": [
    "import sklearn\n",
    "import numpy as np\n",
    "import pickle as pkl\n",
    "import pandas as pd\n",
    "import seaborn as sns\n",
    "import matplotlib.pyplot as plt\n",
    "import random\n",
    "from funcs.utils import *\n",
    "from funcs.explain import *\n",
    "import shap\n",
    "import xgboost\n",
    "from sklearn.model_selection import train_test_split\n",
    "from sklearn.preprocessing import StandardScaler, LabelEncoder\n",
    "\n",
    "from funcs.DIMV import DIMVImputation\n",
    "from funcs.miss_forest import mf\n",
    "\n",
    "missing_rate = 0.2\n",
    "nruns = 10\n",
    "ouput_name = 'XGBRegressor_glass_rate02'  \n",
    "\n",
    "data = pd.read_csv('../../data/pd_speech_features.csv', sep = \",\", header = [0,1])\n",
    "print(data.shape)\n",
    "data.head() "
   ]
  },
  {
   "cell_type": "code",
   "execution_count": 4,
   "metadata": {},
   "outputs": [
    {
     "data": {
      "text/plain": [
       "(756, 753)"
      ]
     },
     "execution_count": 4,
     "metadata": {},
     "output_type": "execute_result"
    }
   ],
   "source": [
    "data = data.to_numpy()\n",
    "X, y = data[:,1:-1], data[:,-1]\n",
    "X.shape"
   ]
  },
  {
   "cell_type": "code",
   "execution_count": 5,
   "metadata": {},
   "outputs": [
    {
     "data": {
      "text/plain": [
       "array([[ 1.     ,  0.85247,  0.71826, ...,  2.6202 ,  3.0004 , 18.9405 ],\n",
       "       [ 1.     ,  0.76686,  0.69481, ...,  6.5245 ,  6.3431 , 45.178  ]])"
      ]
     },
     "execution_count": 5,
     "metadata": {},
     "output_type": "execute_result"
    }
   ],
   "source": [
    "X[:2]"
   ]
  },
  {
   "cell_type": "code",
   "execution_count": 6,
   "metadata": {},
   "outputs": [],
   "source": [
    "def get_split():\n",
    "    X_train, X_test, y_train, y_test = train_test_split(X, y, test_size=0.2)\n",
    "    \n",
    "    scaler = StandardScaler()\n",
    "    scaler.fit(X_train)\n",
    "    X_train = pd.DataFrame(scaler.transform(X_train))#, columns = X_train.columns)\n",
    "    X_test = pd.DataFrame(scaler.transform(X_test))#, columns = X_train.columns)\n",
    "\n",
    "    y_train, y_test = y_train.reshape((-1,1)), y_test.reshape((-1,1))\n",
    "    scaler_y = StandardScaler()\n",
    "    scaler_y.fit(y_train)\n",
    "    y_train = pd.DataFrame(scaler_y.transform(y_train))\n",
    "    y_test = pd.DataFrame(scaler_y.transform(y_test))    \n",
    "    X_train_star = generate_missing_data(X_train, rate=missing_rate)\n",
    "    X_test_star = generate_missing_data(X_test, rate=missing_rate) \n",
    "    return X_train, X_train_star, y_train, X_test, X_test_star, y_test\n",
    "\n",
    "chosen_model = xgboost.XGBRegressor(n_estimators=100, max_depth=2)"
   ]
  },
  {
   "cell_type": "markdown",
   "metadata": {},
   "source": [
    "# Generate missing data, impute, and use SHAP to explain"
   ]
  },
  {
   "cell_type": "code",
   "execution_count": null,
   "metadata": {
    "scrolled": true
   },
   "outputs": [
    {
     "name": "stdout",
     "output_type": "stream",
     "text": [
      "iteration: 0\n"
     ]
    },
    {
     "name": "stderr",
     "output_type": "stream",
     "text": [
      "C:\\Users\\thung\\.conda\\envs\\mtime\\Lib\\site-packages\\sklearn\\impute\\_iterative.py:825: ConvergenceWarning: [IterativeImputer] Early stopping criterion not reached.\n",
      "  warnings.warn(\n"
     ]
    },
    {
     "name": "stdout",
     "output_type": "stream",
     "text": [
      "Start Cross Validation with alphas = [0.0, 0.01, 0.1, 1.0, 10.0, 100.0] and 100.0 % of training set\n",
      "Running Cross Validation, alpha=0.0\n"
     ]
    },
    {
     "name": "stderr",
     "output_type": "stream",
     "text": [
      "100%|██████████████████████████████████████████████████████████████████████████████| 753/753 [3:19:34<00:00, 15.90s/it]\n"
     ]
    },
    {
     "name": "stdout",
     "output_type": "stream",
     "text": [
      "Running Cross Validation, alpha=0.01\n"
     ]
    },
    {
     "name": "stderr",
     "output_type": "stream",
     "text": [
      "100%|██████████████████████████████████████████████████████████████████████████████| 753/753 [3:24:01<00:00, 16.26s/it]\n"
     ]
    },
    {
     "name": "stdout",
     "output_type": "stream",
     "text": [
      "Running Cross Validation, alpha=0.1\n"
     ]
    },
    {
     "name": "stderr",
     "output_type": "stream",
     "text": [
      "100%|██████████████████████████████████████████████████████████████████████████████| 753/753 [3:34:54<00:00, 17.12s/it]\n"
     ]
    },
    {
     "name": "stdout",
     "output_type": "stream",
     "text": [
      "Running Cross Validation, alpha=1.0\n"
     ]
    },
    {
     "name": "stderr",
     "output_type": "stream",
     "text": [
      " 25%|███████████████████▌                                                          | 189/753 [52:23<2:35:37, 16.56s/it]"
     ]
    }
   ],
   "source": [
    "results = []\n",
    "for i in range(nruns):\n",
    "    X_train, X_train_star, y_train, X_test, X_test_star, y_test = get_split()\n",
    "    print('iteration:',i)\n",
    "    results.append(one_run(X_train, X_train_star, y_train, X_test, X_test_star, y_test, chosen_model))"
   ]
  },
  {
   "cell_type": "code",
   "execution_count": null,
   "metadata": {},
   "outputs": [],
   "source": [
    "def get_average_shap_vals(results, j, nruns):\n",
    "    # get the average shap values from all runs for each imputation method or the original \n",
    "    current = results[0][0][j]\n",
    "    for i in range(1, nruns):\n",
    "        current.values += results[i][0][j].values\n",
    "        current.base_values += results[i][0][j].base_values\n",
    "        current.data += results[i][0][j].data  \n",
    "    current.values = current.values/nruns\n",
    "    current.base_values = current.base_values/nruns\n",
    "    current.data = current.data/nruns\n",
    "    return current"
   ]
  },
  {
   "cell_type": "code",
   "execution_count": null,
   "metadata": {},
   "outputs": [],
   "source": [
    "shap_values_ori = get_average_shap_vals(results, j = 0, nruns= nruns)\n",
    "shap_values_xm = get_average_shap_vals(results, j = 1, nruns= nruns)\n",
    "shap_values_mi = get_average_shap_vals(results, j = 2, nruns = nruns)\n",
    "shap_values_mice = get_average_shap_vals(results, j = 3, nruns= nruns)\n",
    "shap_values_dimv = get_average_shap_vals(results, j = 4, nruns= nruns)\n",
    "shap_values_mf = get_average_shap_vals(results, j = 5, nruns= nruns)\n",
    "shap_values_soft = get_average_shap_vals(results, j = 6, nruns= nruns)"
   ]
  },
  {
   "cell_type": "code",
   "execution_count": null,
   "metadata": {},
   "outputs": [],
   "source": [
    "    j = 0\n",
    "    mse_now = results[0][1][j]\n",
    "    for i in range(1, nruns):\n",
    "        mse_now += results[i][1][j]\n",
    "    mse_imputation_all = mse_now/nruns  \n",
    "    print(\"the MSE between the imputed X_test of mean imputation, MICE, DIMV, MissForest, SOFT-IMPUTE and the original X_test:\")\n",
    "    print(mse_imputation_all.round(3))\n",
    "\n",
    "    j = 1\n",
    "    mse_now = results[0][1][j]\n",
    "    for i in range(1, nruns):\n",
    "        mse_now += results[i][1][j]    \n",
    "    mse_shap_all = mse_now/nruns \n",
    "    print(\"the MSE between the Shapley values of mean imputation, MICE, DIMV, MissForest, SOFT-IMPUTE and the original:\")\n",
    "    print(mse_shap_all.round(3))\n",
    "\n",
    "    j = 2\n",
    "    mse_ypred_now = results[0][1][j]\n",
    "    for i in range(1, nruns):\n",
    "        mse_ypred_now += results[i][1][j]    \n",
    "    mse_ypred_all = mse_ypred_now/nruns \n",
    "    print(\"the MSE between y predicted on test set of mean imputation, MICE, DIMV, MissForest, SOFT-IMPUTE and the original:\")\n",
    "    print(mse_ypred_all.round(3))"
   ]
  },
  {
   "cell_type": "code",
   "execution_count": null,
   "metadata": {},
   "outputs": [],
   "source": [
    "mse_imputation_all"
   ]
  },
  {
   "cell_type": "code",
   "execution_count": null,
   "metadata": {},
   "outputs": [],
   "source": [
    "mse_shap_all"
   ]
  },
  {
   "cell_type": "code",
   "execution_count": null,
   "metadata": {},
   "outputs": [],
   "source": [
    "dfplot = pd.DataFrame({'MSE on X test':np.hstack(([np.nan], mse_imputation_all)), 'MSE Shap': mse_shap_all}, index = ['Xgb on missing data','Mean Imputation','MICE','DIMV','missForest','SOFT-IMPUTE'])\n",
    "dfplot"
   ]
  },
  {
   "cell_type": "code",
   "execution_count": null,
   "metadata": {},
   "outputs": [],
   "source": [
    "dfplot.T.round(3)"
   ]
  },
  {
   "cell_type": "code",
   "execution_count": null,
   "metadata": {},
   "outputs": [],
   "source": [
    "dfplot.T.round(3).to_latex()"
   ]
  },
  {
   "cell_type": "code",
   "execution_count": null,
   "metadata": {},
   "outputs": [],
   "source": [
    "print('imputation MSE versus Shapley MSE')\n",
    "plt.figure(figsize=(8, 5))\n",
    "plt.scatter(dfplot['MSE on y test'],dfplot['MSE Shap'], color='skyblue')\n",
    "for i, row in dfplot.iterrows():\n",
    "    plt.text(row['MSE on y test'],row['MSE Shap'], row.name, ha='center', va='bottom')\n",
    "plt.ylabel('MSE Shap')\n",
    "plt.xlabel('MSE on y test')\n",
    "plt.xlim(0.08, 0.15)\n",
    "plt.xticks(rotation=45)\n",
    "plt.grid(True)  # Adding grid for better visualization\n",
    "plt.savefig('results/'+ ouput_name+'imputation_mse_vs_shap_mse'+'.png',bbox_inches='tight')\n",
    "plt.show()"
   ]
  },
  {
   "cell_type": "code",
   "execution_count": null,
   "metadata": {},
   "outputs": [],
   "source": []
  }
 ],
 "metadata": {
  "kernelspec": {
   "display_name": "Python 3 (ipykernel)",
   "language": "python",
   "name": "python3"
  },
  "language_info": {
   "codemirror_mode": {
    "name": "ipython",
    "version": 3
   },
   "file_extension": ".py",
   "mimetype": "text/x-python",
   "name": "python",
   "nbconvert_exporter": "python",
   "pygments_lexer": "ipython3",
   "version": "3.12.3"
  }
 },
 "nbformat": 4,
 "nbformat_minor": 4
}
